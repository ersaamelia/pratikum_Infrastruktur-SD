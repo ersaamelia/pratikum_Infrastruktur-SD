{
 "cells": [
  {
   "cell_type": "markdown",
   "metadata": {},
   "source": [
    "LAPORAN PRATIKUM INFRASTRUKTUR  DAN PLATFROM UNTUK SAINS DATA SEMESTER 3\n",
    "\n",
    "\n",
    "NAMA : ERSA AMELIA\n",
    "\n",
    "NIM : 2311110009\n",
    "\n",
    "KELAS :SD-04-A"
   ]
  },
  {
   "cell_type": "markdown",
   "metadata": {},
   "source": [
    "soal 1. Buatlah program yang dapat menghasilkan pola berbentuk angka seperti di bawah ini, dengan syarat angka yang ditampilkan adalah hasil dari penjumlahan bilangan prima sebelumnya:\n",
    "Jumlah angka pada setiap baris bertambah 1, dan bilangan yang ditampilkan adalah bilangan prima"
   ]
  },
  {
   "cell_type": "code",
   "execution_count": 22,
   "metadata": {},
   "outputs": [
    {
     "name": "stdout",
     "output_type": "stream",
     "text": [
      "2\n",
      "3 5\n",
      "7 11 13\n",
      "17 19 23 29\n",
      "31 37 41 43 47\n"
     ]
    }
   ],
   "source": [
    "\n",
    "def is_prime(n):\n",
    "    for i in range(2, int(n**0.5) + 1):\n",
    "        if n % i == 0:\n",
    "            return False\n",
    "    return n > 1\n",
    "\n",
    "\n",
    "def generate_prime_pattern(rows):\n",
    "    num = 2\n",
    "    primes = []\n",
    "\n",
    "    for row in range(1, rows + 1):\n",
    "        row_primes = []\n",
    "        while len(row_primes) < row:\n",
    "            if is_prime(num):\n",
    "                row_primes.append(num)\n",
    "            num += 1\n",
    "        print(' '.join(map(str, row_primes)))\n",
    "\n",
    "generate_prime_pattern(5)\n"
   ]
  },
  {
   "cell_type": "markdown",
   "metadata": {},
   "source": [
    "2. Buatlah sebuah fungsi yang menerima dua input berupa list angka. Fungsi ini harus mengembalikan sebuah list baru yang berisi elemen dari dua list input yang memiliki indeks ganjil. List baru tersebut juga harus diurutkan secara menurun berdasarkan nilai elemen."
   ]
  },
  {
   "cell_type": "code",
   "execution_count": 3,
   "metadata": {},
   "outputs": [
    {
     "name": "stdout",
     "output_type": "stream",
     "text": [
      "[40, 35, 20, 15]\n"
     ]
    }
   ],
   "source": [
    "def combine_and_sort_odd_indices(list1, list2):\n",
    "    odd_index_elements = []\n",
    "\n",
    "    for i in range(1, len(list1), 2):\n",
    "        odd_index_elements.append(list1[i])\n",
    "\n",
    "    for i in range(1, len(list2), 2):\n",
    "        odd_index_elements.append(list2[i])\n",
    "\n",
    "    odd_index_elements.sort(reverse=True)\n",
    "\n",
    "    return odd_index_elements\n",
    "\n",
    "\n",
    "list1 = [10, 20, 30, 40, 50]\n",
    "list2 = [5, 15, 25, 35]\n",
    "result = combine_and_sort_odd_indices(list1, list2)\n",
    "print(result)"
   ]
  },
  {
   "cell_type": "markdown",
   "metadata": {},
   "source": [
    "3.  Buat sebuah program untuk mensimulasikan transaksi ATM. Program harus:\n",
    "1. Meminta pengguna memasukkan PIN (dibatasi 3 kali percobaan).\n",
    "2. Setelah PIN benar, meminta jumlah penarikan.\n",
    "3. Jika saldo kurang dari jumlah yang ditarik, munculkan pesan kesalahan.\n",
    "4. Jika penarikan berhasil, tampilkan saldo akhir."
   ]
  },
  {
   "cell_type": "code",
   "execution_count": 4,
   "metadata": {},
   "outputs": [
    {
     "name": "stdout",
     "output_type": "stream",
     "text": [
      "PIN benar.\n",
      "\n",
      "Kesalahan: Saldo tidak mencukupi.\n"
     ]
    }
   ],
   "source": [
    "class ATMSimulation:\n",
    "    def __init__(self, pin, saldo):\n",
    "        self.pin = pin\n",
    "        self.saldo = saldo\n",
    "        self.max_attempts = 3\n",
    "\n",
    "    def check_pin(self):\n",
    "        for attempt in range(self.max_attempts):\n",
    "            try:\n",
    "                user_pin = int(input(\"Masukkan PIN Anda: \"))\n",
    "                if user_pin == self.pin:\n",
    "                    print(\"PIN benar.\\n\")\n",
    "                    return True\n",
    "                else:\n",
    "                    print(f\"PIN salah! Percobaan {attempt + 1}/{self.max_attempts}.\\n\")\n",
    "            except ValueError:\n",
    "                print(\"PIN harus berupa angka!\\n\")\n",
    "        print(\"Anda telah melebihi batas percobaan!\\n\")\n",
    "        return False\n",
    "\n",
    "    def withdraw(self, jumlah):\n",
    "        if jumlah > self.saldo:\n",
    "            raise ValueError(\"Saldo tidak mencukupi.\")\n",
    "        self.saldo -= jumlah\n",
    "        return self.saldo\n",
    "\n",
    "    def start(self):\n",
    "        if not self.check_pin():\n",
    "            return\n",
    "\n",
    "        try:\n",
    "            jumlah = float(input(\"Masukkan jumlah penarikan: \"))\n",
    "            if jumlah <= 0:\n",
    "                raise ValueError(\"Jumlah penarikan harus lebih dari 0.\")\n",
    "            saldo_akhir = self.withdraw(jumlah)\n",
    "            print(f\"Penarikan berhasil. Saldo akhir: Rp {saldo_akhir:,.2f}\")\n",
    "        except ValueError as ve:\n",
    "            print(f\"Kesalahan: {ve}\")\n",
    "\n",
    "atm = ATMSimulation(pin=997636, saldo=500000)\n",
    "atm.start()\n"
   ]
  },
  {
   "cell_type": "markdown",
   "metadata": {},
   "source": [
    "4. Anda diberikan file CSV berisi data nilai ujian mahasiswa. Tugas Anda adalah menulis sebuah program yang:\n",
    "1. Membaca file CSV dan menyimpan datanya ke dalam dictionary.\n",
    "2. Menghitung rata-rata nilai tiap mahasiswa.\n",
    "3. Menampilkan mahasiswa dengan nilai tertinggi dan terendah."
   ]
  },
  {
   "cell_type": "code",
   "execution_count": 5,
   "metadata": {},
   "outputs": [
    {
     "name": "stdout",
     "output_type": "stream",
     "text": [
      "   Nama Siswa  Nilai\n",
      "0     Siswa_1     59\n",
      "1     Siswa_2     79\n",
      "2     Siswa_3     61\n",
      "3     Siswa_4     74\n",
      "4     Siswa_5     50\n",
      "..        ...    ...\n",
      "95   Siswa_96     59\n",
      "96   Siswa_97     57\n",
      "97   Siswa_98     70\n",
      "98   Siswa_99     66\n",
      "99  Siswa_100     78\n",
      "\n",
      "[100 rows x 2 columns]\n",
      "[{'Nama Siswa': 'Siswa_1', 'Nilai': 59}, {'Nama Siswa': 'Siswa_2', 'Nilai': 79}, {'Nama Siswa': 'Siswa_3', 'Nilai': 61}, {'Nama Siswa': 'Siswa_4', 'Nilai': 74}, {'Nama Siswa': 'Siswa_5', 'Nilai': 50}, {'Nama Siswa': 'Siswa_6', 'Nilai': 70}, {'Nama Siswa': 'Siswa_7', 'Nilai': 100}, {'Nama Siswa': 'Siswa_8', 'Nilai': 84}, {'Nama Siswa': 'Siswa_9', 'Nilai': 78}, {'Nama Siswa': 'Siswa_10', 'Nilai': 61}, {'Nama Siswa': 'Siswa_11', 'Nilai': 92}, {'Nama Siswa': 'Siswa_12', 'Nilai': 60}, {'Nama Siswa': 'Siswa_13', 'Nilai': 78}, {'Nama Siswa': 'Siswa_14', 'Nilai': 87}, {'Nama Siswa': 'Siswa_15', 'Nilai': 57}, {'Nama Siswa': 'Siswa_16', 'Nilai': 73}, {'Nama Siswa': 'Siswa_17', 'Nilai': 53}, {'Nama Siswa': 'Siswa_18', 'Nilai': 54}, {'Nama Siswa': 'Siswa_19', 'Nilai': 97}, {'Nama Siswa': 'Siswa_20', 'Nilai': 52}, {'Nama Siswa': 'Siswa_21', 'Nilai': 84}, {'Nama Siswa': 'Siswa_22', 'Nilai': 89}, {'Nama Siswa': 'Siswa_23', 'Nilai': 52}, {'Nama Siswa': 'Siswa_24', 'Nilai': 90}, {'Nama Siswa': 'Siswa_25', 'Nilai': 52}, {'Nama Siswa': 'Siswa_26', 'Nilai': 64}, {'Nama Siswa': 'Siswa_27', 'Nilai': 96}, {'Nama Siswa': 'Siswa_28', 'Nilai': 100}, {'Nama Siswa': 'Siswa_29', 'Nilai': 84}, {'Nama Siswa': 'Siswa_30', 'Nilai': 60}, {'Nama Siswa': 'Siswa_31', 'Nilai': 85}, {'Nama Siswa': 'Siswa_32', 'Nilai': 63}, {'Nama Siswa': 'Siswa_33', 'Nilai': 64}, {'Nama Siswa': 'Siswa_34', 'Nilai': 68}, {'Nama Siswa': 'Siswa_35', 'Nilai': 67}, {'Nama Siswa': 'Siswa_36', 'Nilai': 52}, {'Nama Siswa': 'Siswa_37', 'Nilai': 79}, {'Nama Siswa': 'Siswa_38', 'Nilai': 55}, {'Nama Siswa': 'Siswa_39', 'Nilai': 88}, {'Nama Siswa': 'Siswa_40', 'Nilai': 95}, {'Nama Siswa': 'Siswa_41', 'Nilai': 78}, {'Nama Siswa': 'Siswa_42', 'Nilai': 66}, {'Nama Siswa': 'Siswa_43', 'Nilai': 71}, {'Nama Siswa': 'Siswa_44', 'Nilai': 64}, {'Nama Siswa': 'Siswa_45', 'Nilai': 51}, {'Nama Siswa': 'Siswa_46', 'Nilai': 77}, {'Nama Siswa': 'Siswa_47', 'Nilai': 90}, {'Nama Siswa': 'Siswa_48', 'Nilai': 83}, {'Nama Siswa': 'Siswa_49', 'Nilai': 99}, {'Nama Siswa': 'Siswa_50', 'Nilai': 56}, {'Nama Siswa': 'Siswa_51', 'Nilai': 68}, {'Nama Siswa': 'Siswa_52', 'Nilai': 88}, {'Nama Siswa': 'Siswa_53', 'Nilai': 62}, {'Nama Siswa': 'Siswa_54', 'Nilai': 98}, {'Nama Siswa': 'Siswa_55', 'Nilai': 58}, {'Nama Siswa': 'Siswa_56', 'Nilai': 92}, {'Nama Siswa': 'Siswa_57', 'Nilai': 60}, {'Nama Siswa': 'Siswa_58', 'Nilai': 55}, {'Nama Siswa': 'Siswa_59', 'Nilai': 93}, {'Nama Siswa': 'Siswa_60', 'Nilai': 60}, {'Nama Siswa': 'Siswa_61', 'Nilai': 53}, {'Nama Siswa': 'Siswa_62', 'Nilai': 79}, {'Nama Siswa': 'Siswa_63', 'Nilai': 75}, {'Nama Siswa': 'Siswa_64', 'Nilai': 83}, {'Nama Siswa': 'Siswa_65', 'Nilai': 58}, {'Nama Siswa': 'Siswa_66', 'Nilai': 50}, {'Nama Siswa': 'Siswa_67', 'Nilai': 75}, {'Nama Siswa': 'Siswa_68', 'Nilai': 61}, {'Nama Siswa': 'Siswa_69', 'Nilai': 57}, {'Nama Siswa': 'Siswa_70', 'Nilai': 98}, {'Nama Siswa': 'Siswa_71', 'Nilai': 85}, {'Nama Siswa': 'Siswa_72', 'Nilai': 57}, {'Nama Siswa': 'Siswa_73', 'Nilai': 53}, {'Nama Siswa': 'Siswa_74', 'Nilai': 55}, {'Nama Siswa': 'Siswa_75', 'Nilai': 54}, {'Nama Siswa': 'Siswa_76', 'Nilai': 64}, {'Nama Siswa': 'Siswa_77', 'Nilai': 51}, {'Nama Siswa': 'Siswa_78', 'Nilai': 65}, {'Nama Siswa': 'Siswa_79', 'Nilai': 68}, {'Nama Siswa': 'Siswa_80', 'Nilai': 51}, {'Nama Siswa': 'Siswa_81', 'Nilai': 99}, {'Nama Siswa': 'Siswa_82', 'Nilai': 89}, {'Nama Siswa': 'Siswa_83', 'Nilai': 92}, {'Nama Siswa': 'Siswa_84', 'Nilai': 56}, {'Nama Siswa': 'Siswa_85', 'Nilai': 96}, {'Nama Siswa': 'Siswa_86', 'Nilai': 79}, {'Nama Siswa': 'Siswa_87', 'Nilai': 76}, {'Nama Siswa': 'Siswa_88', 'Nilai': 71}, {'Nama Siswa': 'Siswa_89', 'Nilai': 98}, {'Nama Siswa': 'Siswa_90', 'Nilai': 89}, {'Nama Siswa': 'Siswa_91', 'Nilai': 92}, {'Nama Siswa': 'Siswa_92', 'Nilai': 65}, {'Nama Siswa': 'Siswa_93', 'Nilai': 50}, {'Nama Siswa': 'Siswa_94', 'Nilai': 84}, {'Nama Siswa': 'Siswa_95', 'Nilai': 67}, {'Nama Siswa': 'Siswa_96', 'Nilai': 59}, {'Nama Siswa': 'Siswa_97', 'Nilai': 57}, {'Nama Siswa': 'Siswa_98', 'Nilai': 70}, {'Nama Siswa': 'Siswa_99', 'Nilai': 66}, {'Nama Siswa': 'Siswa_100', 'Nilai': 78}]\n",
      "\n",
      "Rata-rata nilai tiap mahasiswa:\n",
      "Nama: Siswa_1, Rata-rata Nilai: 59.00\n",
      "Nama: Siswa_2, Rata-rata Nilai: 79.00\n",
      "Nama: Siswa_3, Rata-rata Nilai: 61.00\n",
      "Nama: Siswa_4, Rata-rata Nilai: 74.00\n",
      "Nama: Siswa_5, Rata-rata Nilai: 50.00\n",
      "Nama: Siswa_6, Rata-rata Nilai: 70.00\n",
      "Nama: Siswa_7, Rata-rata Nilai: 100.00\n",
      "Nama: Siswa_8, Rata-rata Nilai: 84.00\n",
      "Nama: Siswa_9, Rata-rata Nilai: 78.00\n",
      "Nama: Siswa_10, Rata-rata Nilai: 61.00\n",
      "Nama: Siswa_11, Rata-rata Nilai: 92.00\n",
      "Nama: Siswa_12, Rata-rata Nilai: 60.00\n",
      "Nama: Siswa_13, Rata-rata Nilai: 78.00\n",
      "Nama: Siswa_14, Rata-rata Nilai: 87.00\n",
      "Nama: Siswa_15, Rata-rata Nilai: 57.00\n",
      "Nama: Siswa_16, Rata-rata Nilai: 73.00\n",
      "Nama: Siswa_17, Rata-rata Nilai: 53.00\n",
      "Nama: Siswa_18, Rata-rata Nilai: 54.00\n",
      "Nama: Siswa_19, Rata-rata Nilai: 97.00\n",
      "Nama: Siswa_20, Rata-rata Nilai: 52.00\n",
      "Nama: Siswa_21, Rata-rata Nilai: 84.00\n",
      "Nama: Siswa_22, Rata-rata Nilai: 89.00\n",
      "Nama: Siswa_23, Rata-rata Nilai: 52.00\n",
      "Nama: Siswa_24, Rata-rata Nilai: 90.00\n",
      "Nama: Siswa_25, Rata-rata Nilai: 52.00\n",
      "Nama: Siswa_26, Rata-rata Nilai: 64.00\n",
      "Nama: Siswa_27, Rata-rata Nilai: 96.00\n",
      "Nama: Siswa_28, Rata-rata Nilai: 100.00\n",
      "Nama: Siswa_29, Rata-rata Nilai: 84.00\n",
      "Nama: Siswa_30, Rata-rata Nilai: 60.00\n",
      "Nama: Siswa_31, Rata-rata Nilai: 85.00\n",
      "Nama: Siswa_32, Rata-rata Nilai: 63.00\n",
      "Nama: Siswa_33, Rata-rata Nilai: 64.00\n",
      "Nama: Siswa_34, Rata-rata Nilai: 68.00\n",
      "Nama: Siswa_35, Rata-rata Nilai: 67.00\n",
      "Nama: Siswa_36, Rata-rata Nilai: 52.00\n",
      "Nama: Siswa_37, Rata-rata Nilai: 79.00\n",
      "Nama: Siswa_38, Rata-rata Nilai: 55.00\n",
      "Nama: Siswa_39, Rata-rata Nilai: 88.00\n",
      "Nama: Siswa_40, Rata-rata Nilai: 95.00\n",
      "Nama: Siswa_41, Rata-rata Nilai: 78.00\n",
      "Nama: Siswa_42, Rata-rata Nilai: 66.00\n",
      "Nama: Siswa_43, Rata-rata Nilai: 71.00\n",
      "Nama: Siswa_44, Rata-rata Nilai: 64.00\n",
      "Nama: Siswa_45, Rata-rata Nilai: 51.00\n",
      "Nama: Siswa_46, Rata-rata Nilai: 77.00\n",
      "Nama: Siswa_47, Rata-rata Nilai: 90.00\n",
      "Nama: Siswa_48, Rata-rata Nilai: 83.00\n",
      "Nama: Siswa_49, Rata-rata Nilai: 99.00\n",
      "Nama: Siswa_50, Rata-rata Nilai: 56.00\n",
      "Nama: Siswa_51, Rata-rata Nilai: 68.00\n",
      "Nama: Siswa_52, Rata-rata Nilai: 88.00\n",
      "Nama: Siswa_53, Rata-rata Nilai: 62.00\n",
      "Nama: Siswa_54, Rata-rata Nilai: 98.00\n",
      "Nama: Siswa_55, Rata-rata Nilai: 58.00\n",
      "Nama: Siswa_56, Rata-rata Nilai: 92.00\n",
      "Nama: Siswa_57, Rata-rata Nilai: 60.00\n",
      "Nama: Siswa_58, Rata-rata Nilai: 55.00\n",
      "Nama: Siswa_59, Rata-rata Nilai: 93.00\n",
      "Nama: Siswa_60, Rata-rata Nilai: 60.00\n",
      "Nama: Siswa_61, Rata-rata Nilai: 53.00\n",
      "Nama: Siswa_62, Rata-rata Nilai: 79.00\n",
      "Nama: Siswa_63, Rata-rata Nilai: 75.00\n",
      "Nama: Siswa_64, Rata-rata Nilai: 83.00\n",
      "Nama: Siswa_65, Rata-rata Nilai: 58.00\n",
      "Nama: Siswa_66, Rata-rata Nilai: 50.00\n",
      "Nama: Siswa_67, Rata-rata Nilai: 75.00\n",
      "Nama: Siswa_68, Rata-rata Nilai: 61.00\n",
      "Nama: Siswa_69, Rata-rata Nilai: 57.00\n",
      "Nama: Siswa_70, Rata-rata Nilai: 98.00\n",
      "Nama: Siswa_71, Rata-rata Nilai: 85.00\n",
      "Nama: Siswa_72, Rata-rata Nilai: 57.00\n",
      "Nama: Siswa_73, Rata-rata Nilai: 53.00\n",
      "Nama: Siswa_74, Rata-rata Nilai: 55.00\n",
      "Nama: Siswa_75, Rata-rata Nilai: 54.00\n",
      "Nama: Siswa_76, Rata-rata Nilai: 64.00\n",
      "Nama: Siswa_77, Rata-rata Nilai: 51.00\n",
      "Nama: Siswa_78, Rata-rata Nilai: 65.00\n",
      "Nama: Siswa_79, Rata-rata Nilai: 68.00\n",
      "Nama: Siswa_80, Rata-rata Nilai: 51.00\n",
      "Nama: Siswa_81, Rata-rata Nilai: 99.00\n",
      "Nama: Siswa_82, Rata-rata Nilai: 89.00\n",
      "Nama: Siswa_83, Rata-rata Nilai: 92.00\n",
      "Nama: Siswa_84, Rata-rata Nilai: 56.00\n",
      "Nama: Siswa_85, Rata-rata Nilai: 96.00\n",
      "Nama: Siswa_86, Rata-rata Nilai: 79.00\n",
      "Nama: Siswa_87, Rata-rata Nilai: 76.00\n",
      "Nama: Siswa_88, Rata-rata Nilai: 71.00\n",
      "Nama: Siswa_89, Rata-rata Nilai: 98.00\n",
      "Nama: Siswa_90, Rata-rata Nilai: 89.00\n",
      "Nama: Siswa_91, Rata-rata Nilai: 92.00\n",
      "Nama: Siswa_92, Rata-rata Nilai: 65.00\n",
      "Nama: Siswa_93, Rata-rata Nilai: 50.00\n",
      "Nama: Siswa_94, Rata-rata Nilai: 84.00\n",
      "Nama: Siswa_95, Rata-rata Nilai: 67.00\n",
      "Nama: Siswa_96, Rata-rata Nilai: 59.00\n",
      "Nama: Siswa_97, Rata-rata Nilai: 57.00\n",
      "Nama: Siswa_98, Rata-rata Nilai: 70.00\n",
      "Nama: Siswa_99, Rata-rata Nilai: 66.00\n",
      "Nama: Siswa_100, Rata-rata Nilai: 78.00\n",
      "\n",
      "Mahasiswa dengan nilai tertinggi:\n",
      "Nama: Siswa_7, Rata-rata Nilai: 100.00\n",
      "Nama: Siswa_28, Rata-rata Nilai: 100.00\n",
      "\n",
      "Mahasiswa dengan nilai terendah:\n",
      "Nama: Siswa_5, Rata-rata Nilai: 50.00\n",
      "Nama: Siswa_66, Rata-rata Nilai: 50.00\n",
      "Nama: Siswa_93, Rata-rata Nilai: 50.00\n"
     ]
    }
   ],
   "source": [
    "import pandas as pd\n",
    "\n",
    "df=pd.read_csv(r'C:\\Users\\User\\Downloads\\siswa_nilai (1).csv')\n",
    "print(df)\n",
    "\n",
    "data_dict = df.to_dict(orient='records')\n",
    "print(data_dict)\n",
    "\n",
    "df['Rata-rata'] = df.iloc[:, 1:].mean(axis=1)\n",
    "print(\"\\nRata-rata nilai tiap mahasiswa:\")\n",
    "for index, row in df.iterrows():\n",
    "    print(f\"Nama: {row[0]}, Rata-rata Nilai: {row['Rata-rata']:.2f}\")\n",
    "\n",
    "nilai_tertinggi = df[df['Rata-rata'] == df['Rata-rata'].max()]\n",
    "nilai_terendah = df[df['Rata-rata'] == df['Rata-rata'].min()]\n",
    "\n",
    "print(\"\\nMahasiswa dengan nilai tertinggi:\")\n",
    "for index, row in nilai_tertinggi.iterrows():\n",
    "    print(f\"Nama: {row[0]}, Rata-rata Nilai: {row['Rata-rata']:.2f}\")\n",
    "\n",
    "print(\"\\nMahasiswa dengan nilai terendah:\")\n",
    "for index, row in nilai_terendah.iterrows():\n",
    "    print(f\"Nama: {row[0]}, Rata-rata Nilai: {row['Rata-rata']:.2f}\")\n"
   ]
  },
  {
   "cell_type": "markdown",
   "metadata": {},
   "source": [
    "5.  Buatlah permainan sederhana menggunakan Python, di mana komputer akan memilih sebuah angka secara acak antara 1 hingga 100, dan pengguna harus menebak angka tersebut. Setiap tebakan yang salah akan memberikan petunjuk apakah angka yang ditebak lebih besar atau lebih kecil dari angka sebenarnya. Batasi jumlah percobaan menjadi 5 kali. Setelah permainan selesai, tampilkan apakah pemain menang atau kalah."
   ]
  },
  {
   "cell_type": "code",
   "execution_count": 33,
   "metadata": {},
   "outputs": [
    {
     "name": "stdout",
     "output_type": "stream",
     "text": [
      "Selamat datang di permainan Tebak Angka!\n",
      "Komputer telah memilih sebuah angka antara 1 hingga 100.\n",
      "Anda punya 5 kali percobaan untuk menebaknya.\n",
      "\n",
      "Tebakan Anda terlalu kecil. Coba angka yang lebih besar.\n",
      "\n",
      "Tebakan Anda terlalu besar. Coba angka yang lebih kecil.\n",
      "\n",
      "Tebakan Anda terlalu besar. Coba angka yang lebih kecil.\n",
      "\n",
      "Tebakan Anda terlalu besar. Coba angka yang lebih kecil.\n",
      "\n",
      "Tebakan Anda terlalu kecil. Coba angka yang lebih besar.\n",
      "\n",
      "Maaf, Anda telah kehabisan percobaan. Angka yang benar adalah 64.\n",
      "Permainan selesai.\n"
     ]
    }
   ],
   "source": [
    "import random\n",
    "\n",
    "def tebak_angka():\n",
    "    angka_rahasia = random.randint(1, 100)\n",
    "    percobaan_maks = 5\n",
    "\n",
    "    print(\"Selamat datang di permainan Tebak Angka!\")\n",
    "    print(\"Komputer telah memilih sebuah angka antara 1 hingga 100.\")\n",
    "    print(f\"Anda punya {percobaan_maks} kali percobaan untuk menebaknya.\\n\")\n",
    "\n",
    "    for percobaan in range(1, percobaan_maks + 1):\n",
    "        try:\n",
    "            tebakan = int(input(f\"Percobaan {percobaan} - Masukkan tebakan Anda: \"))\n",
    "\n",
    "            if tebakan < 1 or tebakan > 100:\n",
    "                print(\"Tebakan harus antara 1 hingga 100. Coba lagi.\\n\")\n",
    "                continue\n",
    "\n",
    "            if tebakan == angka_rahasia:\n",
    "                print(f\"Selamat! Anda berhasil menebak angka {angka_rahasia} dengan benar.\")\n",
    "                break\n",
    "            elif tebakan < angka_rahasia:\n",
    "                print(\"Tebakan Anda terlalu kecil. Coba angka yang lebih besar.\\n\")\n",
    "            else:\n",
    "                print(\"Tebakan Anda terlalu besar. Coba angka yang lebih kecil.\\n\")\n",
    "\n",
    "        except ValueError:\n",
    "            print(\"Masukkan angka yang valid!\\n\")\n",
    "            continue\n",
    "\n",
    "    else:\n",
    "        print(f\"Maaf, Anda telah kehabisan percobaan. Angka yang benar adalah {angka_rahasia}.\")\n",
    "        print(\"Permainan selesai.\")\n",
    "\n",
    "if __name__ == \"__main__\":\n",
    "    tebak_angka()"
   ]
  },
  {
   "cell_type": "markdown",
   "metadata": {},
   "source": [
    "6. Buat fungsi rekursif yang menerima input bilangan bulat `n` dan menghasilkan urutan bilangan seperti berikut ini:\n",
    "```\n",
    "Input: n = 4\n",
    "Output: 1, 1, 2, 6, 24"
   ]
  },
  {
   "cell_type": "code",
   "execution_count": 17,
   "metadata": {},
   "outputs": [
    {
     "name": "stdout",
     "output_type": "stream",
     "text": [
      "Deret faktorial untuk n = 4: 1, 2, 6, 24\n"
     ]
    }
   ],
   "source": [
    "def faktorial(n):\n",
    "    if n == 0 or n == 1:\n",
    "        return 1\n",
    "    else:\n",
    "        return n * faktorial(n - 1)\n",
    "\n",
    "def deret_faktorial(n):\n",
    "    if n == 1:\n",
    "        return [1]\n",
    "    else:\n",
    "        return deret_faktorial(n - 1) + [faktorial(n)]\n",
    "\n",
    "# Menghitung deret faktorial untuk n = 4\n",
    "n = 4\n",
    "output = deret_faktorial(n)\n",
    "print(f\"Deret faktorial untuk n = {n}: {', '.join(map(str, output))}\")\n"
   ]
  },
  {
   "cell_type": "markdown",
   "metadata": {},
   "source": [
    "7. Buatlah program untuk memecahkan masalah \"minimum coin change\". Diberikan jumlah uang dan daftar nilai koin yang tersedia (misalnya, 1, 5, 10, 25), tentukan kombinasi minimum koin yang diperlukan untuk mencapai jumlah uang tersebut. Namun, program Anda harus bisa menangani koin-koin yang nilai dan jumlahnya ditentukan pengguna."
   ]
  },
  {
   "cell_type": "code",
   "execution_count": 21,
   "metadata": {},
   "outputs": [
    {
     "name": "stdout",
     "output_type": "stream",
     "text": [
      "Jumlah koin minimum yang diperlukan: 6\n",
      "Rincian kombinasi koin: [25, 25, 10, 1, 1, 1]\n"
     ]
    }
   ],
   "source": [
    "def minimum_coins(amount, coins):\n",
    "    coins.sort(reverse=True)\n",
    "\n",
    "    total_coins = 0\n",
    "    coin_combination = []\n",
    "\n",
    "    for coin in coins:\n",
    "        while amount >= coin:\n",
    "            amount -= coin\n",
    "            total_coins += 1\n",
    "            coin_combination.append(coin)\n",
    "\n",
    "    if amount > 0:\n",
    "        return None\n",
    "    return total_coins, coin_combination\n",
    "\n",
    "\n",
    "def main():\n",
    "    amount = int(input(\"Masukkan jumlah uang yang ingin dicapai: \"))\n",
    "\n",
    "\n",
    "    coins = input(\"Masukkan nilai koin yang tersedia (pisahkan dengan spasi): \")\n",
    "    coins = list(map(int, coins.split()))\n",
    "\n",
    "\n",
    "    result = minimum_coins(amount, coins)\n",
    "\n",
    "    if result is None:\n",
    "        print(\"Tidak dapat mencapai jumlah uang yang diinginkan dengan koin yang tersedia.\")\n",
    "    else:\n",
    "        total_coins, coin_combination = result\n",
    "        print(f\"Jumlah koin minimum yang diperlukan: {total_coins}\")\n",
    "        print(f\"Rincian kombinasi koin: {coin_combination}\")\n",
    "\n",
    "if __name__ == \"__main__\":\n",
    "    main()\n"
   ]
  },
  {
   "cell_type": "markdown",
   "metadata": {},
   "source": [
    "8.  Buat sebuah program yang menerima string dari pengguna dan mengonversi string tersebut menjadi sebuah list berisi kata-kata terbalik. Misalnya:"
   ]
  },
  {
   "cell_type": "code",
   "execution_count": 29,
   "metadata": {},
   "outputs": [
    {
     "name": "stdout",
     "output_type": "stream",
     "text": [
      "['ini', 'tagnas', 'loynok']\n"
     ]
    }
   ],
   "source": [
    "\n",
    "def balik_kata(input_str):\n",
    "    kata_list = input_str.split()\n",
    "\n",
    "    kata_terbalik = [kata[::-1] for kata in kata_list]\n",
    "    return kata_terbalik\n",
    "\n",
    "\n",
    "input_str = input(\"Masukkan kalimat: \")\n",
    "\n",
    "\n",
    "hasil = balik_kata(input_str)\n",
    "print(hasil)"
   ]
  },
  {
   "cell_type": "code",
   "execution_count": 1,
   "metadata": {},
   "outputs": [
    {
     "name": "stdout",
     "output_type": "stream",
     "text": [
      "!nerek atad snias\n"
     ]
    }
   ],
   "source": [
    "def string_terbalik(s):\n",
    "    return s[::-1]  \n",
    "\n",
    "input_string = \"sains data keren!\"\n",
    "string_terbalik_result = string_terbalik(input_string)\n",
    "print(string_terbalik_result)  \n"
   ]
  },
  {
   "cell_type": "markdown",
   "metadata": {},
   "source": [
    "9.  Buat class bernama `Buku` yang memiliki atribut `judul`, `penulis`, dan `tahun_terbit`. Buat method dalam class untuk menampilkan informasi buku, serta method untuk menghitung usia buku berdasarkan tahun saat ini. Buatlah 3 objek dari class `Buku` dan tampilkan informasi serta usia masing-masing buku."
   ]
  },
  {
   "cell_type": "code",
   "execution_count": 30,
   "metadata": {},
   "outputs": [
    {
     "name": "stdout",
     "output_type": "stream",
     "text": [
      "\n",
      "Buku 1:\n",
      "--------------------\n",
      "Judul: Malin Kundang\n",
      "Penulis: Dian Apriliani Dewi\n",
      "Tahun Terbit: 2013\n",
      "Usia Buku: 11 tahun\n",
      "\n",
      "--------------------\n",
      "\n",
      "Buku 2:\n",
      "--------------------\n",
      "Judul: Spider-Man\n",
      "Penulis: Stan Lee\n",
      "Tahun Terbit: 1969\n",
      "Usia Buku: 55 tahun\n",
      "\n",
      "--------------------\n",
      "\n",
      "Buku 3:\n",
      "--------------------\n",
      "Judul: 62\n",
      "Penulis: hujan\n",
      "Tahun Terbit: 2016\n",
      "Usia Buku: 8 tahun\n",
      "\n",
      "--------------------\n"
     ]
    }
   ],
   "source": [
    "from datetime import datetime\n",
    "\n",
    "\n",
    "class Buku:\n",
    "    def __init__(self, judul, penulis, tahun_terbit):\n",
    "        self.judul = judul\n",
    "        self.penulis = penulis\n",
    "        self.tahun_terbit = tahun_terbit\n",
    "\n",
    "    def tampilkan_info(self):\n",
    "        print(f\"Judul: {self.judul}\")\n",
    "        print(f\"Penulis: {self.penulis}\")\n",
    "        print(f\"Tahun Terbit: {self.tahun_terbit}\")\n",
    "\n",
    "    def hitung_usia(self):\n",
    "        tahun_sekarang = datetime.now().year\n",
    "        usia_buku = tahun_sekarang - self.tahun_terbit\n",
    "        return usia_buku\n",
    "\n",
    "def buat_buku():\n",
    "    judul = input(\"Masukkan judul buku: \")\n",
    "    penulis = input(\"Masukkan penulis buku: \")\n",
    "    tahun_terbit = int(input(\"Masukkan tahun terbit buku: \"))\n",
    "\n",
    "    return Buku(judul, penulis, tahun_terbit)\n",
    "\n",
    "\n",
    "buku1 = buat_buku()\n",
    "buku2 = buat_buku()\n",
    "buku3 = buat_buku()\n",
    "\n",
    "for i, buku in enumerate((buku1, buku2, buku3), start=1):\n",
    "    print(f\"\\nBuku {i}:\")\n",
    "    print(\"-\" * 20)\n",
    "    buku.tampilkan_info()\n",
    "    print(f\"Usia Buku: {buku.hitung_usia()} tahun\\n\")\n",
    "    print(\"-\" * 20)"
   ]
  },
  {
   "cell_type": "markdown",
   "metadata": {},
   "source": [
    "10. Buatlah program yang mengimplementasikan algoritma pencarian biner, namun dengan modifikasi: algoritma harus bisa mencari nilai di list yang hanya berisi angka genap, dan jika nilai yang dicari adalah angka ganjil, program harus menampilkan pesan bahwa nilai tersebut tidak bisa ditemukan."
   ]
  },
  {
   "cell_type": "code",
   "execution_count": 2,
   "metadata": {},
   "outputs": [
    {
     "name": "stdout",
     "output_type": "stream",
     "text": [
      "Angka 10 ditemukan pada indeks 4.\n",
      "17 adalah angka ganjil dan tidak bisa ditemukan.\n"
     ]
    }
   ],
   "source": [
    "def binary_search_even_only(arr, target):\n",
    "    if target % 2 != 0:\n",
    "        print(f\"{target} adalah angka ganjil dan tidak bisa ditemukan.\")\n",
    "        return\n",
    "\n",
    "    low, high = 0, len(arr) - 1\n",
    "    while low <= high:\n",
    "        mid = (low + high) // 2\n",
    "        if arr[mid] == target:\n",
    "            print(f\"Angka {target} ditemukan pada indeks {mid}.\")\n",
    "            return\n",
    "        elif arr[mid] < target:\n",
    "            low = mid + 1\n",
    "        else:\n",
    "            high = mid - 1\n",
    "\n",
    "    print(f\"Angka {target} tidak ditemukan.\")\n",
    "\n",
    "even_numbers = [2, 4, 6, 8, 10, 12, 14, 16, 18, 20]\n",
    "\n",
    "binary_search_even_only(even_numbers, 10)\n",
    "\n",
    "\n",
    "binary_search_even_only(even_numbers, 17)\n"
   ]
  }
 ],
 "metadata": {
  "kernelspec": {
   "display_name": "base",
   "language": "python",
   "name": "python3"
  },
  "language_info": {
   "codemirror_mode": {
    "name": "ipython",
    "version": 3
   },
   "file_extension": ".py",
   "mimetype": "text/x-python",
   "name": "python",
   "nbconvert_exporter": "python",
   "pygments_lexer": "ipython3",
   "version": "3.11.5"
  }
 },
 "nbformat": 4,
 "nbformat_minor": 2
}
